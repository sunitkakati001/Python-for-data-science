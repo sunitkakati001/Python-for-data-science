{
 "cells": [
  {
   "cell_type": "code",
   "execution_count": 1,
   "metadata": {
    "collapsed": true
   },
   "outputs": [],
   "source": [
    "# --- -2 ----  -1 ---- 0 ---- 1 ---- 2 ---"
   ]
  },
  {
   "cell_type": "code",
   "execution_count": 14,
   "metadata": {
    "collapsed": true
   },
   "outputs": [],
   "source": [
    "import numpy as np\n",
    "from numpy.random import randn"
   ]
  },
  {
   "cell_type": "code",
   "execution_count": 39,
   "metadata": {},
   "outputs": [
    {
     "data": {
      "text/plain": [
       "-0.5702110226085536"
      ]
     },
     "execution_count": 39,
     "metadata": {},
     "output_type": "execute_result"
    }
   ],
   "source": [
    "randn()"
   ]
  },
  {
   "cell_type": "code",
   "execution_count": 31,
   "metadata": {},
   "outputs": [
    {
     "name": "stdout",
     "output_type": "stream",
     "text": [
      "0.36725150997785094\n",
      "None\n"
     ]
    }
   ],
   "source": [
    "# --- -2 ----  -1 ---- 0 ---- 1 ---- 2 ---\n",
    "answer = None\n",
    "y = randn()\n",
    "if y>1:\n",
    "    answer =\"Greater than 1\"\n",
    "\n",
    "print(y) \n",
    "print(answer)\n",
    "    \n",
    "\n"
   ]
  },
  {
   "cell_type": "code",
   "execution_count": 58,
   "metadata": {},
   "outputs": [
    {
     "name": "stdout",
     "output_type": "stream",
     "text": [
      "-0.6858595033982733\n",
      "Less than 1\n"
     ]
    }
   ],
   "source": [
    "# --- -2 ----  -1 ---- 0 ---- 1 ---- 2 ---\n",
    "answer = None\n",
    "y = randn()\n",
    "if y>1:\n",
    "    answer =\"Greater than 1\"\n",
    "else:\n",
    "    answer =\"Less than 1\"\n",
    "\n",
    "\n",
    "print(y) \n",
    "print(answer)"
   ]
  },
  {
   "cell_type": "code",
   "execution_count": 62,
   "metadata": {},
   "outputs": [
    {
     "name": "stdout",
     "output_type": "stream",
     "text": [
      "-0.9772263267240232\n",
      "Between -1 and 1\n"
     ]
    }
   ],
   "source": [
    "# --- -2 ----  -1 ---- 0 ---- 1 ---- 2 ---\n",
    "#nested statement\n",
    "answer = None\n",
    "y = randn()\n",
    "if y>1:\n",
    "    answer =\"Greater than 1\"\n",
    "else:\n",
    "    if y>= -1:\n",
    "        answer= \"Between -1 and 1\"\n",
    "    else :\n",
    "        answer=\"Less than -1\"\n",
    "\n",
    "\n",
    "print(y) \n",
    "print(answer)"
   ]
  },
  {
   "cell_type": "code",
   "execution_count": 63,
   "metadata": {},
   "outputs": [
    {
     "name": "stdout",
     "output_type": "stream",
     "text": [
      "0.6266291405517427\n"
     ]
    }
   ],
   "source": [
    "# --- -2 ----  -1 ---- 0 ---- 1 ---- 2 ---\n",
    "#Chained statement\n",
    "answer = None\n",
    "y = randn()\n",
    "if y>1:\n",
    "    answer =\"Greater than 1\"\n",
    "elif y>= -1:\n",
    "    answer= \"Between -1 and 1\"\n",
    "else :\n",
    "    answer=\"Less than -1\"\n",
    "\n",
    "\n",
    "print(y) "
   ]
  }
 ],
 "metadata": {
  "kernelspec": {
   "display_name": "Python 3",
   "language": "python",
   "name": "python3"
  },
  "language_info": {
   "codemirror_mode": {
    "name": "ipython",
    "version": 3
   },
   "file_extension": ".py",
   "mimetype": "text/x-python",
   "name": "python",
   "nbconvert_exporter": "python",
   "pygments_lexer": "ipython3",
   "version": "3.6.1"
  }
 },
 "nbformat": 4,
 "nbformat_minor": 2
}
